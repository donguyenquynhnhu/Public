{
  "nbformat": 4,
  "nbformat_minor": 0,
  "metadata": {
    "colab": {
      "provenance": [],
      "toc_visible": true,
      "gpuType": "T4",
      "authorship_tag": "ABX9TyOxjcAyEqRH7tniZh43QNfm",
      "include_colab_link": true
    },
    "kernelspec": {
      "name": "python3",
      "display_name": "Python 3"
    },
    "language_info": {
      "name": "python"
    },
    "accelerator": "GPU"
  },
  "cells": [
    {
      "cell_type": "markdown",
      "metadata": {
        "id": "view-in-github",
        "colab_type": "text"
      },
      "source": [
        "<a href=\"https://colab.research.google.com/github/donguyenquynhnhu/Public/blob/main/Lab6_sohoa.ipynb\" target=\"_parent\"><img src=\"https://colab.research.google.com/assets/colab-badge.svg\" alt=\"Open In Colab\"/></a>"
      ]
    },
    {
      "cell_type": "code",
      "source": [
        "import torch\n",
        "\n",
        "torch.cuda.is_available()\n"
      ],
      "metadata": {
        "colab": {
          "base_uri": "https://localhost:8080/"
        },
        "id": "hwLBw3Yl8F8n",
        "outputId": "65a9d670-e405-4a9b-e997-5b89f2d2d50c"
      },
      "execution_count": 1,
      "outputs": [
        {
          "output_type": "execute_result",
          "data": {
            "text/plain": [
              "True"
            ]
          },
          "metadata": {},
          "execution_count": 1
        }
      ]
    },
    {
      "cell_type": "code",
      "source": [],
      "metadata": {
        "id": "XWuttnZP8rhv"
      },
      "execution_count": null,
      "outputs": []
    },
    {
      "cell_type": "code",
      "source": [
        "import torch\n",
        "import numpy as np\n",
        "import pandas as pd\n",
        "import matplotlib.pyplot as plt\n",
        "\n",
        "\n",
        "df = pd.read_csv(\"/content/Iris.csv\")\n",
        "df.head()"
      ],
      "metadata": {
        "colab": {
          "base_uri": "https://localhost:8080/",
          "height": 206
        },
        "id": "Z2Qhacsa8tTn",
        "outputId": "02ac2a4c-2967-43cf-d46a-135c2485888a"
      },
      "execution_count": 16,
      "outputs": [
        {
          "output_type": "execute_result",
          "data": {
            "text/plain": [
              "   Id  SepalLengthCm  SepalWidthCm  PetalLengthCm  PetalWidthCm      Species\n",
              "0   1            5.1           3.5            1.4           0.2  Iris-setosa\n",
              "1   2            4.9           3.0            1.4           0.2  Iris-setosa\n",
              "2   3            4.7           3.2            1.3           0.2  Iris-setosa\n",
              "3   4            4.6           3.1            1.5           0.2  Iris-setosa\n",
              "4   5            5.0           3.6            1.4           0.2  Iris-setosa"
            ],
            "text/html": [
              "\n",
              "  <div id=\"df-71ac824d-549a-4287-bd76-baeda21129cf\" class=\"colab-df-container\">\n",
              "    <div>\n",
              "<style scoped>\n",
              "    .dataframe tbody tr th:only-of-type {\n",
              "        vertical-align: middle;\n",
              "    }\n",
              "\n",
              "    .dataframe tbody tr th {\n",
              "        vertical-align: top;\n",
              "    }\n",
              "\n",
              "    .dataframe thead th {\n",
              "        text-align: right;\n",
              "    }\n",
              "</style>\n",
              "<table border=\"1\" class=\"dataframe\">\n",
              "  <thead>\n",
              "    <tr style=\"text-align: right;\">\n",
              "      <th></th>\n",
              "      <th>Id</th>\n",
              "      <th>SepalLengthCm</th>\n",
              "      <th>SepalWidthCm</th>\n",
              "      <th>PetalLengthCm</th>\n",
              "      <th>PetalWidthCm</th>\n",
              "      <th>Species</th>\n",
              "    </tr>\n",
              "  </thead>\n",
              "  <tbody>\n",
              "    <tr>\n",
              "      <th>0</th>\n",
              "      <td>1</td>\n",
              "      <td>5.1</td>\n",
              "      <td>3.5</td>\n",
              "      <td>1.4</td>\n",
              "      <td>0.2</td>\n",
              "      <td>Iris-setosa</td>\n",
              "    </tr>\n",
              "    <tr>\n",
              "      <th>1</th>\n",
              "      <td>2</td>\n",
              "      <td>4.9</td>\n",
              "      <td>3.0</td>\n",
              "      <td>1.4</td>\n",
              "      <td>0.2</td>\n",
              "      <td>Iris-setosa</td>\n",
              "    </tr>\n",
              "    <tr>\n",
              "      <th>2</th>\n",
              "      <td>3</td>\n",
              "      <td>4.7</td>\n",
              "      <td>3.2</td>\n",
              "      <td>1.3</td>\n",
              "      <td>0.2</td>\n",
              "      <td>Iris-setosa</td>\n",
              "    </tr>\n",
              "    <tr>\n",
              "      <th>3</th>\n",
              "      <td>4</td>\n",
              "      <td>4.6</td>\n",
              "      <td>3.1</td>\n",
              "      <td>1.5</td>\n",
              "      <td>0.2</td>\n",
              "      <td>Iris-setosa</td>\n",
              "    </tr>\n",
              "    <tr>\n",
              "      <th>4</th>\n",
              "      <td>5</td>\n",
              "      <td>5.0</td>\n",
              "      <td>3.6</td>\n",
              "      <td>1.4</td>\n",
              "      <td>0.2</td>\n",
              "      <td>Iris-setosa</td>\n",
              "    </tr>\n",
              "  </tbody>\n",
              "</table>\n",
              "</div>\n",
              "    <div class=\"colab-df-buttons\">\n",
              "\n",
              "  <div class=\"colab-df-container\">\n",
              "    <button class=\"colab-df-convert\" onclick=\"convertToInteractive('df-71ac824d-549a-4287-bd76-baeda21129cf')\"\n",
              "            title=\"Convert this dataframe to an interactive table.\"\n",
              "            style=\"display:none;\">\n",
              "\n",
              "  <svg xmlns=\"http://www.w3.org/2000/svg\" height=\"24px\" viewBox=\"0 -960 960 960\">\n",
              "    <path d=\"M120-120v-720h720v720H120Zm60-500h600v-160H180v160Zm220 220h160v-160H400v160Zm0 220h160v-160H400v160ZM180-400h160v-160H180v160Zm440 0h160v-160H620v160ZM180-180h160v-160H180v160Zm440 0h160v-160H620v160Z\"/>\n",
              "  </svg>\n",
              "    </button>\n",
              "\n",
              "  <style>\n",
              "    .colab-df-container {\n",
              "      display:flex;\n",
              "      gap: 12px;\n",
              "    }\n",
              "\n",
              "    .colab-df-convert {\n",
              "      background-color: #E8F0FE;\n",
              "      border: none;\n",
              "      border-radius: 50%;\n",
              "      cursor: pointer;\n",
              "      display: none;\n",
              "      fill: #1967D2;\n",
              "      height: 32px;\n",
              "      padding: 0 0 0 0;\n",
              "      width: 32px;\n",
              "    }\n",
              "\n",
              "    .colab-df-convert:hover {\n",
              "      background-color: #E2EBFA;\n",
              "      box-shadow: 0px 1px 2px rgba(60, 64, 67, 0.3), 0px 1px 3px 1px rgba(60, 64, 67, 0.15);\n",
              "      fill: #174EA6;\n",
              "    }\n",
              "\n",
              "    .colab-df-buttons div {\n",
              "      margin-bottom: 4px;\n",
              "    }\n",
              "\n",
              "    [theme=dark] .colab-df-convert {\n",
              "      background-color: #3B4455;\n",
              "      fill: #D2E3FC;\n",
              "    }\n",
              "\n",
              "    [theme=dark] .colab-df-convert:hover {\n",
              "      background-color: #434B5C;\n",
              "      box-shadow: 0px 1px 3px 1px rgba(0, 0, 0, 0.15);\n",
              "      filter: drop-shadow(0px 1px 2px rgba(0, 0, 0, 0.3));\n",
              "      fill: #FFFFFF;\n",
              "    }\n",
              "  </style>\n",
              "\n",
              "    <script>\n",
              "      const buttonEl =\n",
              "        document.querySelector('#df-71ac824d-549a-4287-bd76-baeda21129cf button.colab-df-convert');\n",
              "      buttonEl.style.display =\n",
              "        google.colab.kernel.accessAllowed ? 'block' : 'none';\n",
              "\n",
              "      async function convertToInteractive(key) {\n",
              "        const element = document.querySelector('#df-71ac824d-549a-4287-bd76-baeda21129cf');\n",
              "        const dataTable =\n",
              "          await google.colab.kernel.invokeFunction('convertToInteractive',\n",
              "                                                    [key], {});\n",
              "        if (!dataTable) return;\n",
              "\n",
              "        const docLinkHtml = 'Like what you see? Visit the ' +\n",
              "          '<a target=\"_blank\" href=https://colab.research.google.com/notebooks/data_table.ipynb>data table notebook</a>'\n",
              "          + ' to learn more about interactive tables.';\n",
              "        element.innerHTML = '';\n",
              "        dataTable['output_type'] = 'display_data';\n",
              "        await google.colab.output.renderOutput(dataTable, element);\n",
              "        const docLink = document.createElement('div');\n",
              "        docLink.innerHTML = docLinkHtml;\n",
              "        element.appendChild(docLink);\n",
              "      }\n",
              "    </script>\n",
              "  </div>\n",
              "\n",
              "\n",
              "<div id=\"df-e1b04244-1f4a-4c54-b139-7c2b7342fb2d\">\n",
              "  <button class=\"colab-df-quickchart\" onclick=\"quickchart('df-e1b04244-1f4a-4c54-b139-7c2b7342fb2d')\"\n",
              "            title=\"Suggest charts\"\n",
              "            style=\"display:none;\">\n",
              "\n",
              "<svg xmlns=\"http://www.w3.org/2000/svg\" height=\"24px\"viewBox=\"0 0 24 24\"\n",
              "     width=\"24px\">\n",
              "    <g>\n",
              "        <path d=\"M19 3H5c-1.1 0-2 .9-2 2v14c0 1.1.9 2 2 2h14c1.1 0 2-.9 2-2V5c0-1.1-.9-2-2-2zM9 17H7v-7h2v7zm4 0h-2V7h2v10zm4 0h-2v-4h2v4z\"/>\n",
              "    </g>\n",
              "</svg>\n",
              "  </button>\n",
              "\n",
              "<style>\n",
              "  .colab-df-quickchart {\n",
              "      --bg-color: #E8F0FE;\n",
              "      --fill-color: #1967D2;\n",
              "      --hover-bg-color: #E2EBFA;\n",
              "      --hover-fill-color: #174EA6;\n",
              "      --disabled-fill-color: #AAA;\n",
              "      --disabled-bg-color: #DDD;\n",
              "  }\n",
              "\n",
              "  [theme=dark] .colab-df-quickchart {\n",
              "      --bg-color: #3B4455;\n",
              "      --fill-color: #D2E3FC;\n",
              "      --hover-bg-color: #434B5C;\n",
              "      --hover-fill-color: #FFFFFF;\n",
              "      --disabled-bg-color: #3B4455;\n",
              "      --disabled-fill-color: #666;\n",
              "  }\n",
              "\n",
              "  .colab-df-quickchart {\n",
              "    background-color: var(--bg-color);\n",
              "    border: none;\n",
              "    border-radius: 50%;\n",
              "    cursor: pointer;\n",
              "    display: none;\n",
              "    fill: var(--fill-color);\n",
              "    height: 32px;\n",
              "    padding: 0;\n",
              "    width: 32px;\n",
              "  }\n",
              "\n",
              "  .colab-df-quickchart:hover {\n",
              "    background-color: var(--hover-bg-color);\n",
              "    box-shadow: 0 1px 2px rgba(60, 64, 67, 0.3), 0 1px 3px 1px rgba(60, 64, 67, 0.15);\n",
              "    fill: var(--button-hover-fill-color);\n",
              "  }\n",
              "\n",
              "  .colab-df-quickchart-complete:disabled,\n",
              "  .colab-df-quickchart-complete:disabled:hover {\n",
              "    background-color: var(--disabled-bg-color);\n",
              "    fill: var(--disabled-fill-color);\n",
              "    box-shadow: none;\n",
              "  }\n",
              "\n",
              "  .colab-df-spinner {\n",
              "    border: 2px solid var(--fill-color);\n",
              "    border-color: transparent;\n",
              "    border-bottom-color: var(--fill-color);\n",
              "    animation:\n",
              "      spin 1s steps(1) infinite;\n",
              "  }\n",
              "\n",
              "  @keyframes spin {\n",
              "    0% {\n",
              "      border-color: transparent;\n",
              "      border-bottom-color: var(--fill-color);\n",
              "      border-left-color: var(--fill-color);\n",
              "    }\n",
              "    20% {\n",
              "      border-color: transparent;\n",
              "      border-left-color: var(--fill-color);\n",
              "      border-top-color: var(--fill-color);\n",
              "    }\n",
              "    30% {\n",
              "      border-color: transparent;\n",
              "      border-left-color: var(--fill-color);\n",
              "      border-top-color: var(--fill-color);\n",
              "      border-right-color: var(--fill-color);\n",
              "    }\n",
              "    40% {\n",
              "      border-color: transparent;\n",
              "      border-right-color: var(--fill-color);\n",
              "      border-top-color: var(--fill-color);\n",
              "    }\n",
              "    60% {\n",
              "      border-color: transparent;\n",
              "      border-right-color: var(--fill-color);\n",
              "    }\n",
              "    80% {\n",
              "      border-color: transparent;\n",
              "      border-right-color: var(--fill-color);\n",
              "      border-bottom-color: var(--fill-color);\n",
              "    }\n",
              "    90% {\n",
              "      border-color: transparent;\n",
              "      border-bottom-color: var(--fill-color);\n",
              "    }\n",
              "  }\n",
              "</style>\n",
              "\n",
              "  <script>\n",
              "    async function quickchart(key) {\n",
              "      const quickchartButtonEl =\n",
              "        document.querySelector('#' + key + ' button');\n",
              "      quickchartButtonEl.disabled = true;  // To prevent multiple clicks.\n",
              "      quickchartButtonEl.classList.add('colab-df-spinner');\n",
              "      try {\n",
              "        const charts = await google.colab.kernel.invokeFunction(\n",
              "            'suggestCharts', [key], {});\n",
              "      } catch (error) {\n",
              "        console.error('Error during call to suggestCharts:', error);\n",
              "      }\n",
              "      quickchartButtonEl.classList.remove('colab-df-spinner');\n",
              "      quickchartButtonEl.classList.add('colab-df-quickchart-complete');\n",
              "    }\n",
              "    (() => {\n",
              "      let quickchartButtonEl =\n",
              "        document.querySelector('#df-e1b04244-1f4a-4c54-b139-7c2b7342fb2d button');\n",
              "      quickchartButtonEl.style.display =\n",
              "        google.colab.kernel.accessAllowed ? 'block' : 'none';\n",
              "    })();\n",
              "  </script>\n",
              "</div>\n",
              "\n",
              "    </div>\n",
              "  </div>\n"
            ],
            "application/vnd.google.colaboratory.intrinsic+json": {
              "type": "dataframe",
              "variable_name": "df",
              "summary": "{\n  \"name\": \"df\",\n  \"rows\": 150,\n  \"fields\": [\n    {\n      \"column\": \"Id\",\n      \"properties\": {\n        \"dtype\": \"number\",\n        \"std\": 43,\n        \"min\": 1,\n        \"max\": 150,\n        \"num_unique_values\": 150,\n        \"samples\": [\n          74,\n          19,\n          119\n        ],\n        \"semantic_type\": \"\",\n        \"description\": \"\"\n      }\n    },\n    {\n      \"column\": \"SepalLengthCm\",\n      \"properties\": {\n        \"dtype\": \"number\",\n        \"std\": 0.8280661279778629,\n        \"min\": 4.3,\n        \"max\": 7.9,\n        \"num_unique_values\": 35,\n        \"samples\": [\n          6.2,\n          4.5,\n          5.6\n        ],\n        \"semantic_type\": \"\",\n        \"description\": \"\"\n      }\n    },\n    {\n      \"column\": \"SepalWidthCm\",\n      \"properties\": {\n        \"dtype\": \"number\",\n        \"std\": 0.4335943113621737,\n        \"min\": 2.0,\n        \"max\": 4.4,\n        \"num_unique_values\": 23,\n        \"samples\": [\n          2.3,\n          4.0,\n          3.5\n        ],\n        \"semantic_type\": \"\",\n        \"description\": \"\"\n      }\n    },\n    {\n      \"column\": \"PetalLengthCm\",\n      \"properties\": {\n        \"dtype\": \"number\",\n        \"std\": 1.7644204199522617,\n        \"min\": 1.0,\n        \"max\": 6.9,\n        \"num_unique_values\": 43,\n        \"samples\": [\n          6.7,\n          3.8,\n          3.7\n        ],\n        \"semantic_type\": \"\",\n        \"description\": \"\"\n      }\n    },\n    {\n      \"column\": \"PetalWidthCm\",\n      \"properties\": {\n        \"dtype\": \"number\",\n        \"std\": 0.7631607417008414,\n        \"min\": 0.1,\n        \"max\": 2.5,\n        \"num_unique_values\": 22,\n        \"samples\": [\n          0.2,\n          1.2,\n          1.3\n        ],\n        \"semantic_type\": \"\",\n        \"description\": \"\"\n      }\n    },\n    {\n      \"column\": \"Species\",\n      \"properties\": {\n        \"dtype\": \"category\",\n        \"num_unique_values\": 3,\n        \"samples\": [\n          \"Iris-setosa\",\n          \"Iris-versicolor\",\n          \"Iris-virginica\"\n        ],\n        \"semantic_type\": \"\",\n        \"description\": \"\"\n      }\n    }\n  ]\n}"
            }
          },
          "metadata": {},
          "execution_count": 16
        }
      ]
    },
    {
      "cell_type": "code",
      "source": [
        "from sklearn.preprocessing import LabelEncoder\n",
        "from sklearn.model_selection import train_test_split\n",
        "\n",
        "le = LabelEncoder()\n",
        "x = df.drop([\"Species\"], axis=1).values\n",
        "y = le.fit_transform(df[\"Species\"].values)\n",
        "\n",
        "x_train, x_test, y_train, y_test = train_test_split(x, y, test_size = 0.2,random_state = 42)\n",
        "\n",
        "x_train = torch.FloatTensor(x_train)\n",
        "x_test = torch.FloatTensor(x_test)\n",
        "y_train = torch.LongTensor(y_train).reshape(-1,1)\n",
        "y_test = torch.LongTensor(y_test).reshape(-1,1)\n",
        "print(f\"train size : {len(y_train)}\")\n"
      ],
      "metadata": {
        "colab": {
          "base_uri": "https://localhost:8080/"
        },
        "id": "lpntgh1N9re_",
        "outputId": "8ad5c129-257f-46e9-8a2d-fe89791212fe"
      },
      "execution_count": 15,
      "outputs": [
        {
          "output_type": "stream",
          "name": "stdout",
          "text": [
            "train size : 120\n"
          ]
        }
      ]
    },
    {
      "cell_type": "code",
      "source": [
        "labels, counts = y_train.unique(return_counts=True)\n",
        "print(labels, counts)"
      ],
      "metadata": {
        "colab": {
          "base_uri": "https://localhost:8080/"
        },
        "id": "xz8n2BjTCiVz",
        "outputId": "7b994fef-4701-4fe5-f8e8-459a9e9aaf56"
      },
      "execution_count": 14,
      "outputs": [
        {
          "output_type": "stream",
          "name": "stdout",
          "text": [
            "tensor([0, 1, 2]) tensor([40, 41, 39])\n"
          ]
        }
      ]
    },
    {
      "cell_type": "code",
      "source": [
        "import torch\n",
        "\n",
        "# Tạo tensor x với requires_grad=True để tính đạo hàm\n",
        "x = torch.tensor(2.0, requires_grad=True)\n",
        "\n",
        "# Định nghĩa hàm số y\n",
        "y = 2*x**4 + x**3 + 3*x**2 + 5*x + 1\n",
        "\n",
        "# Tính đạo hàm của y theo x\n",
        "y.backward()\n",
        "\n",
        "# In ra đạo hàm y'\n",
        "print(\"Đạo hàm y':\", x.grad)"
      ],
      "metadata": {
        "colab": {
          "base_uri": "https://localhost:8080/"
        },
        "id": "XpDyNEpYDF7D",
        "outputId": "d2b1801e-4cf7-4208-b967-1a47a4c9c94a"
      },
      "execution_count": 19,
      "outputs": [
        {
          "output_type": "stream",
          "name": "stdout",
          "text": [
            "Đạo hàm y': tensor(93.)\n"
          ]
        }
      ]
    },
    {
      "cell_type": "code",
      "source": [
        "import torch\n",
        "\n",
        "# Tạo một tensor với requires_grad được đặt thành True\n",
        "x = torch.tensor(2.0, requires_grad=True)\n",
        "\n",
        "# Định nghĩa một hàm số sử dụng x\n",
        "y = x**2 + 3*x + 1\n",
        "\n",
        "# Tính gradient của y theo x\n",
        "y.backward()\n",
        "\n",
        "#  giá trị của x và gradient của x\n",
        "print(\"Giá trị của x:\", x)\n",
        "print(\"Gradient của x (x.grad):\", x.grad)"
      ],
      "metadata": {
        "colab": {
          "base_uri": "https://localhost:8080/"
        },
        "id": "sU91ZUY-H-IO",
        "outputId": "49f8c6f6-4563-4d0b-875e-a952e494c0ef"
      },
      "execution_count": 26,
      "outputs": [
        {
          "output_type": "stream",
          "name": "stdout",
          "text": [
            "Giá trị của x: tensor(2., requires_grad=True)\n",
            "Gradient của x (x.grad): tensor(7.)\n"
          ]
        }
      ]
    },
    {
      "cell_type": "code",
      "source": [
        "import torch\n",
        "\n",
        "# Tạo một tensor x với requires_grad=True\n",
        "x = torch.tensor(2.0, requires_grad=True)\n",
        "\n",
        "# Định nghĩa hàm số y\n",
        "y = 2*x**4 + x**3 + 3*x**2 + 5*x + 1\n",
        "\n",
        "#  giá trị của y\n",
        "print(\"Giá trị của y:\", y)\n",
        "\n",
        "# Thực hiện truyền ngược và tính toán các gradient\n",
        "y.backward()\n",
        "\n",
        "#  kết quả đạo hàm\n",
        "print(\"Đạo hàm y' (x.grad):\", x.grad)"
      ],
      "metadata": {
        "colab": {
          "base_uri": "https://localhost:8080/"
        },
        "id": "W2JLry5wIhf3",
        "outputId": "a74d8e70-1e5e-4b6b-8b1b-129518a24969"
      },
      "execution_count": 25,
      "outputs": [
        {
          "output_type": "stream",
          "name": "stdout",
          "text": [
            "Giá trị của y: tensor(63., grad_fn=<AddBackward0>)\n",
            "Đạo hàm y' (x.grad): tensor(93.)\n"
          ]
        }
      ]
    },
    {
      "cell_type": "code",
      "source": [
        "import torch\n",
        "\n",
        "# Tạo một tensor x với requires_grad=True\n",
        "x = torch.tensor(1.0, requires_grad=True)  # Thay đổi giá trị của x tại đây\n",
        "\n",
        "# Định nghĩa hàm số y\n",
        "y = 5*x**6 + 3*x**3 + 2*x + x + 2*x + 5*x**4 + 1\n",
        "\n",
        "# Giá trị của y\n",
        "print(\"Giá trị của y:\", y)\n",
        "\n",
        "# Thực hiện truyền ngược và tính toán các gradient\n",
        "y.backward()\n",
        "\n",
        "# Kết quả đạo hàm (gradient của x)\n",
        "print(\"Độ dốc (gradient) của y tại x =\", x.item(), \"là:\", x.grad.item())"
      ],
      "metadata": {
        "colab": {
          "base_uri": "https://localhost:8080/"
        },
        "id": "dyYdB56XKOqm",
        "outputId": "26470e71-0292-41ff-bd7b-8cebf7023179"
      },
      "execution_count": 28,
      "outputs": [
        {
          "output_type": "stream",
          "name": "stdout",
          "text": [
            "Giá trị của y: tensor(19., grad_fn=<AddBackward0>)\n",
            "Độ dốc (gradient) của y tại x = 1.0 là: 64.0\n"
          ]
        }
      ]
    },
    {
      "cell_type": "code",
      "source": [
        "#BTVN1\n",
        "import torch\n",
        "\n",
        "# Tạo tensor x với giá trị ban đầu là 2.0 và yêu cầu tính gradient\n",
        "x = torch.tensor(2.0, requires_grad=True)\n",
        "\n",
        "# Định nghĩa learning rate\n",
        "alpha = 0.1\n",
        "\n",
        "# Số vòng lặp\n",
        "num_iterations = 10\n",
        "\n",
        "# Gradient Descent\n",
        "for i in range(num_iterations):\n",
        "    # Định nghĩa hàm số y\n",
        "    y = x**3 + 2*x**2 + 5*x + 1\n",
        "\n",
        "    # Tính gradient của y theo x\n",
        "    y.backward()\n",
        "\n",
        "    # Giá trị của x và gradient tại mỗi vòng lặp\n",
        "    print(f\"Iteration {i+1}: x = {x.item()}, dy/dx = {x.grad.item()}\")\n",
        "\n",
        "    # Cập nhật giá trị của x bằng Gradient Descent\n",
        "    with torch.no_grad():\n",
        "        x -= alpha * x.grad\n",
        "\n",
        "    # Đặt lại gradient về 0 để chuẩn bị cho vòng lặp tiếp theo\n",
        "    x.grad.zero_()"
      ],
      "metadata": {
        "colab": {
          "base_uri": "https://localhost:8080/"
        },
        "id": "bf1IZVmnKg5w",
        "outputId": "a8cdc796-cb92-4a5d-e8c7-9e620471fb1b"
      },
      "execution_count": 29,
      "outputs": [
        {
          "output_type": "stream",
          "name": "stdout",
          "text": [
            "Iteration 1: x = 2.0, dy/dx = 25.0\n",
            "Iteration 2: x = -0.5, dy/dx = 3.75\n",
            "Iteration 3: x = -0.875, dy/dx = 3.796875\n",
            "Iteration 4: x = -1.2546875476837158, dy/dx = 4.703972339630127\n",
            "Iteration 5: x = -1.7250847816467285, dy/dx = 7.027413368225098\n",
            "Iteration 6: x = -2.427826166152954, dy/dx = 12.971714973449707\n",
            "Iteration 7: x = -3.7249975204467773, dy/dx = 31.726829528808594\n",
            "Iteration 8: x = -6.897680282592773, dy/dx = 120.14325714111328\n",
            "Iteration 9: x = -18.912006378173828, dy/dx = 1002.3439331054688\n",
            "Iteration 10: x = -119.14640808105469, dy/dx = 42116.01171875\n"
          ]
        }
      ]
    },
    {
      "cell_type": "code",
      "source": [
        "import torch\n",
        "import numpy as np\n",
        "\n",
        "# 1. Tạo tập dữ liệu giả lập\n",
        "np.random.seed(42)\n",
        "x = np.random.randint(1, 11, size=20)  # Số giờ học từ 1 đến 10\n",
        "noise = np.random.normal(0, 1, size=20)  # Noise nhỏ\n",
        "y = 3 * x + 5 + noise  # Công thức tính y\n",
        "\n",
        "# Chuyển đổi sang tensor\n",
        "x = torch.tensor(x, dtype=torch.float32)\n",
        "y = torch.tensor(y, dtype=torch.float32)\n",
        "\n",
        "# 2. Khởi tạo tham số w và b ngẫu nhiên\n",
        "w = torch.randn(1, requires_grad=True)\n",
        "b = torch.randn(1, requires_grad=True)\n",
        "\n",
        "# Định nghĩa learning rate\n",
        "alpha = 0.01\n",
        "\n",
        "# Số vòng lặp\n",
        "num_iterations = 100\n",
        "\n",
        "# Gradient Descent\n",
        "for i in range(num_iterations):\n",
        "    # 3. Tính MSE\n",
        "    y_pred = w * x + b\n",
        "    mse = torch.mean((y_pred - y) ** 2)\n",
        "\n",
        "    # 4. Tính gradient\n",
        "    mse.backward()\n",
        "\n",
        "    # 5. Cập nhật tham số w và b\n",
        "    with torch.no_grad():\n",
        "        w -= alpha * w.grad\n",
        "        b -= alpha * b.grad\n",
        "\n",
        "    # Đặt lại gradient về 0 để chuẩn bị cho vòng lặp tiếp theo\n",
        "    w.grad.zero_()\n",
        "    b.grad.zero_()\n",
        "\n",
        "    # Giá trị của MSE và tham số sau mỗi vòng lặp\n",
        "    if (i+1) % 10 == 0:\n",
        "        print(f\"Iteration {i+1}: MSE = {mse.item()}, w = {w.item()}, b = {b.item()}\")\n",
        "\n",
        "# Kết quả cuối cùng\n",
        "print(f\"Final parameters: w = {w.item()}, b = {b.item()}\")"
      ],
      "metadata": {
        "colab": {
          "base_uri": "https://localhost:8080/"
        },
        "id": "glwQQAnrKsbA",
        "outputId": "86fe040e-99b3-4271-894c-5c898b7e515c"
      },
      "execution_count": 30,
      "outputs": [
        {
          "output_type": "stream",
          "name": "stdout",
          "text": [
            "Iteration 10: MSE = 3.324047565460205, w = 3.764265298843384, b = -0.5150746703147888\n",
            "Iteration 20: MSE = 3.1908068656921387, w = 3.7470922470092773, b = -0.40115249156951904\n",
            "Iteration 30: MSE = 3.0641045570373535, w = 3.7303450107574463, b = -0.29006117582321167\n",
            "Iteration 40: MSE = 2.94362211227417, w = 3.7140142917633057, b = -0.18173019587993622\n",
            "Iteration 50: MSE = 2.8290514945983887, w = 3.698089361190796, b = -0.07609102129936218\n",
            "Iteration 60: MSE = 2.7201056480407715, w = 3.6825597286224365, b = 0.026923127472400665\n",
            "Iteration 70: MSE = 2.6165051460266113, w = 3.6674163341522217, b = 0.12737764418125153\n",
            "Iteration 80: MSE = 2.5179901123046875, w = 3.652649164199829, b = 0.22533603012561798\n",
            "Iteration 90: MSE = 2.424309730529785, w = 3.638248920440674, b = 0.3208604156970978\n",
            "Iteration 100: MSE = 2.3352255821228027, w = 3.62420654296875, b = 0.414011150598526\n",
            "Final parameters: w = 3.62420654296875, b = 0.414011150598526\n"
          ]
        }
      ]
    },
    {
      "cell_type": "code",
      "source": [
        "arr = np.arange(0,5)\n",
        "x = torch.from_numpy(arr)\n",
        "print(x)\n"
      ],
      "metadata": {
        "colab": {
          "base_uri": "https://localhost:8080/"
        },
        "id": "zjssnWp8Me1x",
        "outputId": "c52f625c-fe81-40a1-e97c-cbbcc298f3cf"
      },
      "execution_count": 32,
      "outputs": [
        {
          "output_type": "stream",
          "name": "stdout",
          "text": [
            "tensor([0, 1, 2, 3, 4])\n"
          ]
        }
      ]
    },
    {
      "cell_type": "code",
      "source": [
        "arr[0] = 99\n",
        "print(x)"
      ],
      "metadata": {
        "colab": {
          "base_uri": "https://localhost:8080/"
        },
        "id": "oppvh1pPM1ZR",
        "outputId": "9dddeb17-3bfd-4df2-8f19-31b2bd685506"
      },
      "execution_count": 33,
      "outputs": [
        {
          "output_type": "stream",
          "name": "stdout",
          "text": [
            "tensor([99,  1,  2,  3,  4])\n"
          ]
        }
      ]
    },
    {
      "cell_type": "code",
      "source": [
        "#BTVN 3,4\n",
        "\n",
        "import torch\n",
        "arr = np.arange(0,5)\n",
        "x = torch.tensor(arr)\n",
        "print(x)  # tensor([0, 1, 2, 3, 4])\n",
        "\n",
        "arr[0] = 99\n",
        "print(x)  # tensor([0, 1, 2, 3, 4])\n",
        "\n",
        "\n",
        "# Tạo tensor rỗng với kích thước (2, 3)\n",
        "x = torch.empty(2, 3)\n",
        "print(x)\n",
        "print(\"               \")\n",
        "# Tạo tensor chứa toàn số 0 với kích thước (2, 3)\n",
        "x = torch.zeros(2, 3)\n",
        "print(x)\n",
        "print(\"               \")\n",
        "# Tạo tensor chứa toàn số 1 với kích thước (2, 3)\n",
        "x = torch.ones(2, 3)\n",
        "print(x)\n",
        "print(\"               \")\n",
        "# Tạo tensor với giá trị ngẫu nhiên từ phân phối đều trong khoảng [0, 1) với kích thước (2, 3)\n",
        "x = torch.rand(2, 3)\n",
        "print(x)\n",
        "print(\"               \")\n",
        "# Tạo tensor với kích thước (2, 3)\n",
        "x = torch.tensor([[1, 2, 3], [4, 5, 6]])\n",
        "print(\"               \")\n",
        "# Reshape tensor thành kích thước (3, 2) sử dụng view\n",
        "y = x.view(3, 2)\n",
        "print(y)\n",
        "print(\"               \")\n",
        "# Reshape tensor thành kích thước của tensor khác sử dụng view_as\n",
        "z = torch.tensor([[1, 2], [3, 4], [5, 6]])\n",
        "y = x.view_as(z)\n",
        "print(y)"
      ],
      "metadata": {
        "colab": {
          "base_uri": "https://localhost:8080/"
        },
        "id": "c62pop-4NLXr",
        "outputId": "4a88ceff-c40d-4725-9363-db4c5ea7c073"
      },
      "execution_count": 34,
      "outputs": [
        {
          "output_type": "stream",
          "name": "stdout",
          "text": [
            "tensor([0, 1, 2, 3, 4])\n",
            "tensor([0, 1, 2, 3, 4])\n",
            "tensor([[-4.2201e+01,  4.3107e-41,  9.0593e-32],\n",
            "        [ 0.0000e+00,  4.4842e-44,  0.0000e+00]])\n",
            "               \n",
            "tensor([[0., 0., 0.],\n",
            "        [0., 0., 0.]])\n",
            "               \n",
            "tensor([[1., 1., 1.],\n",
            "        [1., 1., 1.]])\n",
            "               \n",
            "tensor([[0.5024, 0.4913, 0.7162],\n",
            "        [0.3425, 0.0592, 0.4588]])\n",
            "               \n",
            "               \n",
            "tensor([[1, 2],\n",
            "        [3, 4],\n",
            "        [5, 6]])\n",
            "               \n",
            "tensor([[1, 2],\n",
            "        [3, 4],\n",
            "        [5, 6]])\n"
          ]
        }
      ]
    },
    {
      "cell_type": "code",
      "source": [],
      "metadata": {
        "id": "wbKWRumjNW2K"
      },
      "execution_count": null,
      "outputs": []
    }
  ]
}