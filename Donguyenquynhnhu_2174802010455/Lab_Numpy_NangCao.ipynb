{
 "cells": [
  {
   "cell_type": "code",
   "execution_count": 26,
   "metadata": {},
   "outputs": [
    {
     "name": "stdout",
     "output_type": "stream",
     "text": [
      "[[1 2]\n",
      " [3 4]\n",
      " [5 6]]\n",
      "2\n",
      "3\n",
      "---\n",
      "[[3 4]\n",
      " [5 6]]\n",
      "---\n",
      "[[3 4]]\n",
      "---\n",
      "[[3 4]\n",
      " [5 6]]\n",
      "---\n",
      "[[1 2]]\n",
      "---\n",
      "[1 3 5]\n",
      "---\n",
      "[1 3]\n",
      "---\n",
      "[1 5]\n",
      "+++\n",
      "[1 5]\n"
     ]
    }
   ],
   "source": [
    "import numpy as np\n",
    "data = [[1,2],[3,4],[5,6]]\n",
    "mang = np.array(data)\n",
    "print(mang)\n",
    "\n",
    "print(mang[0,1])\n",
    "print(mang[1,0])\n",
    "print(\"---\")\n",
    "print(mang[1:,:])\n",
    "print(\"---\")\n",
    "print(mang[1:2])\n",
    "print(\"---\")\n",
    "print(mang[1:3])\n",
    "print(\"---\")\n",
    "print(mang[0:1])\n",
    "print(\"---\")\n",
    "print(mang[:,0])\n",
    "print(\"---\")\n",
    "print(mang[0:2,0])\n",
    "print(\"---\")\n",
    "print(mang[[0,2],0])\n",
    "print(\"+++\")\n",
    "print(mang[::2,0])\n"
   ]
  },
  {
   "cell_type": "code",
   "execution_count": 62,
   "metadata": {},
   "outputs": [
    {
     "name": "stdout",
     "output_type": "stream",
     "text": [
      "[[ 1  2  3  4]\n",
      " [ 5  6  7  8]\n",
      " [ 9 10 11 12]\n",
      " [13 14 15 16]]\n",
      "+++\n",
      "[ 2  6 10 14]\n",
      "+++\n",
      "[ 7 11]\n",
      "+++\n",
      "[ 4  7 10]\n",
      "+++\n",
      "[16 15 14 13]\n",
      "+++\n"
     ]
    }
   ],
   "source": [
    "x = [\n",
    "    [1,2,3,4],\n",
    "    [5,6,7,8],\n",
    "    [9,10,11,12],\n",
    "    [13,14,15,16]\n",
    "]\n",
    "mang = np.array(x)\n",
    "print(mang)\n",
    "\n",
    "#lay 2,6,10,14 -- 7,11 -- 4,7,10 -- 16,15,14,13\n",
    "print(\"+++\")\n",
    "print(mang[::1,1])\n",
    "print(\"+++\")\n",
    "print(mang[1:3,2])\n",
    "print(\"+++\")\n",
    "print(mang[[0,1,2],[3,2,1]])\n",
    "print(\"+++\")\n",
    "print(mang[3,::-1])\n",
    "print(\"+++\")\n",
    "\n",
    "\n",
    "\n",
    "\n"
   ]
  },
  {
   "cell_type": "code",
   "execution_count": 14,
   "metadata": {},
   "outputs": [
    {
     "name": "stdout",
     "output_type": "stream",
     "text": [
      "[[1 2 3]\n",
      " [4 5 6]\n",
      " [7 8 9]]\n",
      "***\n",
      "[4 5 6]\n",
      "***\n",
      "[2 5]\n",
      "***\n",
      "[3 4]\n",
      "***\n",
      "[9 6 3]\n",
      "[2, 4, 6, 8, 10]\n"
     ]
    }
   ],
   "source": [
    "import numpy as np\n",
    "x = [\n",
    "    [1,2,3],\n",
    "    [4,5,6],\n",
    "    [7,8,9]\n",
    "]\n",
    "mang = np.array(x)\n",
    "print(mang)\n",
    "\n",
    "#lay 4,5,6 -- 2,5 -- 3,4 -- 9,6,3\n",
    "print(\"***\")\n",
    "print(mang[1])\n",
    "print(\"***\")\n",
    "print(mang[[0,1],[1,1]])\n",
    "print(\"***\")\n",
    "print(mang[[0,1],[2,0]])\n",
    "print(\"***\")\n",
    "print(mang[::-1,2])\n",
    "\n",
    "print(\"***\")\n",
    "y = [1,2,3,4,5,6,7,8,9,10]\n",
    "mang_chan = [num for num in y if num % 2 == 0]\n",
    "print(mang_chan)\n",
    "\n",
    "\n",
    "\n"
   ]
  },
  {
   "cell_type": "code",
   "execution_count": 13,
   "metadata": {},
   "outputs": [
    {
     "name": "stdout",
     "output_type": "stream",
     "text": [
      "[2, 4, 6, 8, 10]\n"
     ]
    }
   ],
   "source": []
  }
 ],
 "metadata": {
  "kernelspec": {
   "display_name": "Python 3",
   "language": "python",
   "name": "python3"
  },
  "language_info": {
   "codemirror_mode": {
    "name": "ipython",
    "version": 3
   },
   "file_extension": ".py",
   "mimetype": "text/x-python",
   "name": "python",
   "nbconvert_exporter": "python",
   "pygments_lexer": "ipython3",
   "version": "3.12.1"
  }
 },
 "nbformat": 4,
 "nbformat_minor": 2
}
